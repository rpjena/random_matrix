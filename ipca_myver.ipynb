{
  "nbformat": 4,
  "nbformat_minor": 0,
  "metadata": {
    "colab": {
      "provenance": [],
      "authorship_tag": "ABX9TyOxZxkb4QJSTofU/YmdGZTc",
      "include_colab_link": true
    },
    "kernelspec": {
      "name": "python3",
      "display_name": "Python 3"
    },
    "language_info": {
      "name": "python"
    }
  },
  "cells": [
    {
      "cell_type": "markdown",
      "metadata": {
        "id": "view-in-github",
        "colab_type": "text"
      },
      "source": [
        "<a href=\"https://colab.research.google.com/github/rpjena/random_matrix/blob/main/ipca_myver.ipynb\" target=\"_parent\"><img src=\"https://colab.research.google.com/assets/colab-badge.svg\" alt=\"Open In Colab\"/></a>"
      ]
    },
    {
      "cell_type": "code",
      "execution_count": null,
      "metadata": {
        "id": "ckGo_88hM8gQ"
      },
      "outputs": [],
      "source": [
        "import pandas as pd\n",
        "import numpy as np\n",
        "import scipy.linalg as sla\n",
        "import scipy.sparse.linalg as ssla\n"
      ]
    },
    {
      "cell_type": "code",
      "source": [
        "# matrix left/right division (following MATLAB function naming)\n",
        "_mldivide = lambda denom, numer: sla.lstsq(np.array(denom), np.array(numer))[0]\n",
        "_mrdivide = lambda numer, denom: (sla.lstsq(np.array(denom).T, np.array(numer).T)[0]).T"
      ],
      "metadata": {
        "id": "p4bjQKrQNP81"
      },
      "execution_count": null,
      "outputs": []
    },
    {
      "cell_type": "code",
      "source": [
        "def _sign_convention(gamma, fac):\n",
        "    '''\n",
        "    sign the latent factors to have positive mean, and sign gamma accordingly\n",
        "    '''\n",
        "    sign_conv = fac.mean(axis=1).apply(lambda x: 1 if x >= 0 else -1)\n",
        "    return gamma.mul(sign_conv.values, axis=1), fac.mul(sign_conv.values, axis=0)\n",
        "\n",
        "\n",
        "def _calc_r2(r_act, r_fit):\n",
        "    '''\n",
        "    compute r2 of fitted values vs actual\n",
        "    '''\n",
        "    sumsq = lambda x: x.dot(x)\n",
        "    sse = sum(sumsq(r_act[t] - r_fit[t]) for t in r_fit.keys())\n",
        "    sst = sum(sumsq(r_act[t]) for t in r_fit.keys())\n",
        "    return 1. - sse / sst"
      ],
      "metadata": {
        "id": "I1Q0vmEdOPWe"
      },
      "execution_count": null,
      "outputs": []
    },
    {
      "cell_type": "code",
      "source": [
        "class IPCA(object):\n",
        "    def __init__(self, Z, R=None, X=None, K=0, gFac=None):\n",
        "        '''\n",
        "        [Dimensions]\n",
        "            N: the number of assets\n",
        "            T: the number of time periods\n",
        "            L: the number of characteristics\n",
        "            K: the number of latent factors\n",
        "            M: the number of pre-specified factors (plus anomaly term)\n",
        "\n",
        "\n",
        "        [Inputs]\n",
        "            Z (dict(T) of df(NxL)): characteristics; can be rank-demeaned\n",
        "            R (dict(T) of srs(N); not needed for managed-ptf-only version): asset returns\n",
        "            X (df(LxT); only needed for managed-ptf-only version): managed portfolio returns\n",
        "            K (const; optional): number of latent factors\n",
        "            gFac (df(MxT); optional): Anomaly term ([1,...,1]), or Pre-Specified Factors (i.e. returns of HML, SMB, etc.)\n",
        "\n",
        "\n",
        "        * IPCA can be run with only K > 0 or only gFac\n",
        "        * IMPORTANT: this structure and the code supposes that lagging has already occurred.\n",
        "          i.e. If t is March 2003, monthly data, then R[t] are the returnss realized at the end of March 2003 during March 2003,\n",
        "          and Z[t] are the characteristics known at the end of February 2003.\n",
        "\n",
        "\n",
        "        [Transformed Inputs]\n",
        "            N_valid (srs(T)): number of nonmissing obs each period, where a missing obs is any asset with missing return or any missing characteristic\n",
        "            X (df(LxT)): managed portfolio returns: X[t] = Z[t][valid].T * R[t][valid] / N_valid[t]\n",
        "            W (dict(T) of df(LxL)): characteristic second moments: W[t] = Z[t][valid].T * Z[t][valid].T / N_valid(t)\n",
        "\n",
        "\n",
        "        [Outputs]\n",
        "        calculated in run_ipca method:\n",
        "            Gamma (df(Lx(K+M))): gamma estimate (fGamma for latent, gGamma for pre-specified)\n",
        "            Fac (df((K+M)xT)): factor return estimate (fFac for latent, gFac for pre-specified)\n",
        "            Lambd (srs(K+M)): mean of Fac (fLambd for latent, gLambd for pre-specified)\n",
        "        calculated in fit method:\n",
        "            fitvals (dict(4) of dict(T) of srs(N)): fitted values of asset returns; 4 versions: {constant risk price, dynamic risk price} x {assets, managed-ptfs}\n",
        "            r2 (srs(4)): r-squared of the four versions of fitted values against actual values\n",
        "        '''\n",
        "        # type of model\n",
        "        self.X_only = True if R is None else False # managed-ptf-only version\n",
        "        self.has_latent = True if K else False\n",
        "        self.has_prespec = True if (gFac is not None and len(gFac) > 0) else False\n",
        "\n",
        "\n",
        "        # inputs\n",
        "        self.Z, self.R, self.X = Z, R, X\n",
        "        self.times, self.charas = sorted(Z.keys()), Z[list(Z.keys())[0]].columns\n",
        "        self.gFac = gFac if self.has_prespec else pd.DataFrame(columns=self.times)\n",
        "        self.gLambd = self.gFac.mean(axis=1)\n",
        "        self.fIdx, self.gIdx = map(str, range(1, K+1)), list(self.gFac.index)\n",
        "        self.K, self.M, self.L, self.T = K, len(self.gIdx), len(self.charas), len(self.times)\n",
        "\n",
        "\n",
        "\n",
        "        # transformation inputs\n",
        "        self.N_valid = pd.Series(index=self.times)\n",
        "\n",
        "        if not self.X_only:\n",
        "            self.X = pd.DataFrame(index=self.charas, columns=self.times)\n",
        "        self.W = {t: pd.DataFrame(index=self.charas, columns=self.charas) for t in self.times}\n",
        "\n",
        "        for t in self.times:\n",
        "          is_valid = pd.DataFrame({'z':self.Z[t].notnull().all(axis=1),'r':self.R[t].notnull()}).all(axis=1) # not valid if ret or any charas are missing\n",
        "          z_valid = self.Z[t].loc[is_valid.values,:]\n",
        "          r_valid = self.R[t].loc[is_valid.values]\n",
        "          self.N_valid[t] = (1. * is_valid).sum()\n",
        "          if not self.X_only:\n",
        "              self.X[t] = z_valid.T.dot(r_valid) / self.N_valid[t]\n",
        "          self.W[t] = z_valid.T.dot(z_valid) / self.N_valid[t]\n",
        "\n",
        "\n",
        "        # outputs\n",
        "        self.Gamma, self.fGamma, self.gGamma = None, None, None\n",
        "        self.Fac, self.fFac = None, None\n",
        "        self.Lambd, self.fLambd = None, None\n",
        "        self.fitvals, self.r2 = {}, pd.Series()\n",
        "\n",
        "\n",
        "    def run_ipca(self, fit=True, dispIters=False, MinTol=1e-6, MaxIter=5000):\n",
        "        '''\n",
        "        Computes Gamma, Fac and Lambd\n",
        "\n",
        "\n",
        "        [Inputs]\n",
        "        fit (bool): whether to compute fitted returns and r-squared after params are estimated\n",
        "        dispIters (bool): whether to display results of each iteration\n",
        "        MinTol (float): tolerance for convergence\n",
        "        MaxIter (int): max number of iterations\n",
        "\n",
        "\n",
        "        [Outputs]\n",
        "        Gamma (df(Lx(K+M))): gamma estimate (fGamma for latent, gGamma for pre-specified)\n",
        "        Fac (df((K+M)xT)): factor return estimate (fFac for latent, gFac for pre-specified)\n",
        "        Lambd (srs(K+M)): mean of Fac (fLambd for latent, gLambd for pre-specified)\n",
        "\n",
        "\n",
        "        * When characteristics are rank-demeaned and returns are used in units (ie 0.01 is a 1% return),\n",
        "          1e-6 tends to be a good convergence criterion.\n",
        "          This is because the convergence of the algorithm mostly comes from GammaBeta being stable,\n",
        "          and 1e-6 is small given that GammaBeta is always rotated to be orthonormal.\n",
        "        '''\n",
        "        # initial guess\n",
        "        Gamma0 = GammaDelta0 = pd.DataFrame(0., index=self.charas, columns=self.gIdx)\n",
        "        if self.has_latent:\n",
        "            svU, svS, svV = ssla.svds(self.X.values, self.K)\n",
        "            svU, svS, svV = np.fliplr(svU), svS[::-1], np.flipud(svV) # reverse order to match MATLAB svds output\n",
        "            fFac0 = pd.DataFrame(np.diag(svS).dot(svV), index=self.fIdx, columns=self.times) # first K PC of X\n",
        "            GammaBeta0 = pd.DataFrame(svU, index=self.charas, columns=self.fIdx) # first K eigvec of X\n",
        "            GammaBeta0, fFac0 = _sign_convention(GammaBeta0, fFac0)\n",
        "            Gamma0 = pd.concat([GammaBeta0, GammaDelta0], axis=1)\n",
        "\n",
        "\n",
        "        # ALS estimate\n",
        "        tol, iter = float('inf'), 0\n",
        "        while iter < MaxIter and tol > MinTol:\n",
        "            Gamma1, fFac1 = self._ipca_als_estimation(Gamma0)\n",
        "            tol_Gamma = abs(Gamma1 - Gamma0).values.max()\n",
        "            tol_fFac = abs(fFac1 - fFac0).values.max() if self.has_latent else None\n",
        "            tol = max(tol_Gamma, tol_fFac)\n",
        "\n",
        "\n",
        "            if dispIters:\n",
        "                print('iter {}: tolGamma = {} and tolFac = {}'.format(iter, tol_Gamma, tol_fFac))\n",
        "\n",
        "\n",
        "            Gamma0, fFac0 = Gamma1, fFac1\n",
        "            iter += 1\n",
        "\n",
        "\n",
        "        self.Gamma, self.fGamma, self.gGamma = Gamma1, Gamma1[self.fIdx], Gamma1[self.gIdx]\n",
        "        self.Fac, self.fFac = pd.concat([fFac1, self.gFac]), fFac1\n",
        "        self.Lambd, self.fLambd = self.Fac.mean(axis=1), self.fFac.mean(axis=1)\n",
        "\n",
        "\n",
        "        if fit: # default to automatically compute fitted values\n",
        "            self.fit()\n",
        "\n",
        "\n",
        "    def _ipca_als_estimation(self, Gamma0):\n",
        "        '''\n",
        "        Runs one iteration of the alternating least squares estimation process\n",
        "\n",
        "\n",
        "        [Inputs]\n",
        "        Gamma0 (df(Lx(K+M))): previous iteration's Gamma estimate\n",
        "\n",
        "\n",
        "        [Outputs]\n",
        "        Gamma1 (df(Lx(K+M))): current iteration's Gamma estimate\n",
        "        fFac1 (df(KxT)): current iteration's latent Factor estimate\n",
        "\n",
        "\n",
        "        * Imposes identification assumption on Gamma1 and fFac1:\n",
        "          Gamma1 is orthonormal matrix and fFac1 orthogonal with positive mean (taken across times)\n",
        "\n",
        "\n",
        "        '''\n",
        "        # 1. estimate latent factor\n",
        "        fFac1 = pd.DataFrame(index=self.fIdx, columns=self.times)\n",
        "        if self.has_latent:\n",
        "            GammaBeta0, GammaDelta0 = Gamma0[self.fIdx], Gamma0[self.gIdx]\n",
        "            for t in self.times:\n",
        "                numer = GammaBeta0.T.dot(self.X[t])\n",
        "                if self.has_prespec:\n",
        "                    numer -= GammaBeta0.T.dot(self.W[t]).dot(GammaDelta0).dot(self.gFac[t])\n",
        "                denom = GammaBeta0.T.dot(self.W[t]).dot(GammaBeta0)\n",
        "                fFac1[t] = pd.Series(_mldivide(denom, numer), index=self.fIdx)\n",
        "\n",
        "\n",
        "        # 2. estimate gamma\n",
        "        vec_len = self.L * (self.K + self.M)\n",
        "        numer, denom = np.zeros(vec_len), np.zeros((vec_len, vec_len))\n",
        "        for t in self.times:\n",
        "            Fac = pd.concat([fFac1[t], self.gFac[t]])\n",
        "            FacOutProd = np.outer(Fac, Fac)\n",
        "            numer += np.kron(self.X[t], Fac) * self.N_valid[t]\n",
        "            denom += np.kron(self.W[t], FacOutProd) * self.N_valid[t] # this line takes most of the time\n",
        "        Gamma1_tmp = np.reshape(_mldivide(denom, numer), (self.L, self.K + self.M))\n",
        "        Gamma1 = pd.DataFrame(Gamma1_tmp, index=self.charas, columns=self.fIdx + self.gIdx)\n",
        "\n",
        "\n",
        "        # 3. identification assumption\n",
        "        if self.has_latent: # GammaBeta orthonormal and fFac1 orthogonal\n",
        "            GammaBeta1, GammaDelta1 = Gamma1[self.fIdx], Gamma1[self.gIdx]\n",
        "\n",
        "\n",
        "            R1 = sla.cholesky(GammaBeta1.T.dot(GammaBeta1))\n",
        "            R2, _, _ = sla.svd(R1.dot(fFac1).dot(fFac1.T).dot(R1.T))\n",
        "            GammaBeta1 = pd.DataFrame(_mrdivide(GammaBeta1, R1).dot(R2), index=self.charas, columns=self.fIdx)\n",
        "            fFac1 = pd.DataFrame(_mldivide(R2, R1.dot(fFac1)), index=self.fIdx, columns=self.times)\n",
        "            GammaBeta1, fFac1 = _sign_convention(GammaBeta1, fFac1)\n",
        "\n",
        "\n",
        "            if self.has_prespec: # orthogonality between GammaBeta and GammaDelta\n",
        "                GammaDelta1 = (np.identity(self.L) - GammaBeta1.dot(GammaBeta1.T)).dot(GammaDelta1)\n",
        "                fFac1 += GammaBeta1.T.dot(GammaDelta1).dot(self.gFac) # (K x M reg coef) * gFac\n",
        "                GammaBeta1, fFac1 = _sign_convention(GammaBeta1, fFac1)\n",
        "\n",
        "\n",
        "            Gamma1 = pd.concat([GammaBeta1, GammaDelta1], axis=1)\n",
        "        return Gamma1, fFac1\n",
        "\n",
        "\n",
        "    def fit(self):\n",
        "        '''\n",
        "        Computes fitted values and their associated r-squared\n",
        "\n",
        "\n",
        "        [Inputs]\n",
        "        Assumes the run_ipca was already run\n",
        "\n",
        "\n",
        "        [Outputs]\n",
        "        fitvals (dict(4) of dict(T) of srs(N)): fitted values of asset returns; 4 versions: (constant vs dynamic risk prices) x (assets vs managed-ptfs)\n",
        "        r2 (srs(4)): r-squared of the four versions of fitted values against actual values\n",
        "\n",
        "\n",
        "        * Dynamic Risk Price -> F\n",
        "          Constant Risk Price -> Lambda\n",
        "        '''\n",
        "        if not self.X_only:\n",
        "            self.fitvals['R_DRP'] = {t: self.Z[t].dot(self.Gamma).dot(self.Fac[t]) for t in self.times}\n",
        "            self.fitvals['R_CRP'] = {t: self.Z[t].dot(self.Gamma).dot(self.Lambd) for t in self.times}\n",
        "            self.r2['R_Tot'] = _calc_r2(self.R, self.fitvals['R_DRP'])\n",
        "            self.r2['R_Prd'] = _calc_r2(self.R, self.fitvals['R_CRP'])\n",
        "\n",
        "\n",
        "        self.fitvals['X_DRP'] = {t: self.W[t].dot(self.Gamma).dot(self.Fac[t]) for t in self.times}\n",
        "        self.fitvals['X_CRP'] = {t: self.W[t].dot(self.Gamma).dot(self.Lambd) for t in self.times}\n",
        "        self.r2['X_Tot'] = _calc_r2(self.X, self.fitvals['X_DRP'])\n",
        "        self.r2['X_Prd'] = _calc_r2(self.X, self.fitvals['X_CRP'])\n",
        "\n"
      ],
      "metadata": {
        "id": "fcbs4ycuOR-d"
      },
      "execution_count": null,
      "outputs": []
    },
    {
      "cell_type": "code",
      "source": [
        "IPCA"
      ],
      "metadata": {
        "colab": {
          "base_uri": "https://localhost:8080/",
          "height": 104
        },
        "id": "cEYetIoCSnqS",
        "outputId": "2cbc3777-6bef-444b-d19e-880807fbe4eb"
      },
      "execution_count": null,
      "outputs": [
        {
          "output_type": "execute_result",
          "data": {
            "text/plain": [
              "__main__.IPCA"
            ],
            "text/html": [
              "<div style=\"max-width:800px; border: 1px solid var(--colab-border-color);\"><style>\n",
              "      pre.function-repr-contents {\n",
              "        overflow-x: auto;\n",
              "        padding: 8px 12px;\n",
              "        max-height: 500px;\n",
              "      }\n",
              "\n",
              "      pre.function-repr-contents.function-repr-contents-collapsed {\n",
              "        cursor: pointer;\n",
              "        max-height: 100px;\n",
              "      }\n",
              "    </style>\n",
              "    <pre style=\"white-space: initial; background:\n",
              "         var(--colab-secondary-surface-color); padding: 8px 12px;\n",
              "         border-bottom: 1px solid var(--colab-border-color);\"><b>IPCA</b><br/>def __init__(Z, R=None, X=None, K=0, gFac=None)</pre><pre class=\"function-repr-contents function-repr-contents-collapsed\" style=\"\"><a class=\"filepath\" style=\"display:none\" href=\"#\"></a>&lt;no docstring&gt;</pre></div>"
            ]
          },
          "metadata": {},
          "execution_count": 121
        }
      ]
    },
    {
      "cell_type": "code",
      "source": [
        "# prompt: create random Z (dict(T) of df(NxL))\n",
        "\n",
        "import pandas as pd\n",
        "import numpy as np\n",
        "\n",
        "def create_random_Z(num_time_periods, num_assets, num_characteristics):\n",
        "    \"\"\"\n",
        "    Creates a random Z (dict(T) of df(NxL)).\n",
        "\n",
        "    Args:\n",
        "        num_time_periods (int): Number of time periods (T).\n",
        "        num_assets (int): Number of assets (N).\n",
        "        num_characteristics (int): Number of characteristics (L).\n",
        "\n",
        "    Returns:\n",
        "        dict: A dictionary representing Z, where keys are time periods (T) and values are pandas DataFrames (NxL) with random data.\n",
        "    \"\"\"\n",
        "\n",
        "    date_rng = pd.date_range(start='01/01/2024', end='11/08/2024', freq='D')\n",
        "\n",
        "    Z = {}\n",
        "    for t in date_rng:\n",
        "        Z[t] = pd.DataFrame(np.random.rand(num_assets, num_characteristics))  # Random data for each period\n",
        "    return Z\n",
        "\n",
        "\n",
        "def dataframe_to_dict_with_index_as_keys(df):\n",
        "  \"\"\"Converts a Pandas DataFrame to a dictionary with index as keys.\n",
        "\n",
        "  Args:\n",
        "    df: The input Pandas DataFrame.\n",
        "\n",
        "  Returns:\n",
        "    dict: A dictionary where keys are the index values of the DataFrame,\n",
        "          and values are the corresponding rows (as dictionaries).\n",
        "          Returns an empty dictionary if the input is not a DataFrame or is empty.\n",
        "  \"\"\"\n",
        "  if not isinstance(df, pd.DataFrame) or df.empty:\n",
        "    return {}\n",
        "\n",
        "  result_dict = {}\n",
        "  for index, row in df.iterrows():\n",
        "    result_dict[index] = row.to_dict()\n",
        "  return result_dict\n",
        "\n",
        "\n",
        "# Example usage:\n",
        "num_time_periods = 5\n",
        "num_assets = 100\n",
        "num_characteristics = 10\n",
        "\n",
        "Z = create_random_Z(num_time_periods, num_assets, num_characteristics)\n",
        "\n",
        "# Access data for a specific time period\n",
        "# print(Z[0])\n",
        "#Z"
      ],
      "metadata": {
        "id": "yiF9ux5zTWzK"
      },
      "execution_count": null,
      "outputs": []
    },
    {
      "cell_type": "markdown",
      "source": [
        "column series name"
      ],
      "metadata": {
        "id": "IAqgPT74T6wZ"
      }
    },
    {
      "cell_type": "code",
      "source": [
        "date_rng = pd.date_range(start='01/01/2024', end='11/08/2024', freq='D')\n",
        "#column_names = [f'char_{i}' for i in range(1, num_characteristics + 1)]\n",
        "#df.columns = column_names\n",
        "#Z = pd.DataFrame(np.random.randn(len(date_rng), num_characteristics), index=date_rng, columns=column_names)\n",
        "num_stocks = 100\n",
        "column_names = [f'stock_{i}' for i in range(1, num_stocks+ 1)]\n",
        "R = pd.DataFrame(np.random.randn(len(date_rng), 100), index=date_rng, columns = column_names)\n",
        "R = dataframe_to_dict_with_index_as_keys(R)"
      ],
      "metadata": {
        "id": "DgjKl75kSp0Y"
      },
      "execution_count": null,
      "outputs": []
    },
    {
      "cell_type": "code",
      "source": [
        "#_if __name__ == '__main__':\n",
        "'''\n",
        "sample script\n",
        "'''\n",
        "# set  up\n",
        "K = 6 # specify K\n",
        "#num_characteristics = 10\n",
        "\n",
        "#Z, R = load_data_placeholder() # load your data here\n",
        "\n",
        "\n",
        "# IPCA: no anomaly\n",
        "ipca_0 = IPCA(Z, R=R, K=K)\n",
        "ipca_0.run_ipca(dispIters=True)\n",
        "\n",
        "\n",
        "# IPCA: with anomaly\n",
        "gFac = pd.DataFrame(1., index=sorted(R.keys()), columns=['anomaly']).T\n",
        "ipca_1 = IPCA(Z, R=R, K=K, gFac=gFac)\n",
        "ipca_1.run_ipca(dispIters=True)\n",
        "\n",
        "\n",
        "# IPCA: with anomaly and a pre-specified factor\n",
        "gFac = pd.DataFrame(1., index=sorted(R.keys()), columns=['anomaly'])\n",
        "gFac['mkt'] = pd.Series({key:R[key].mean() for key in gFac.index}) # say we include the equally weighted market\n",
        "gFac = gFac.T\n",
        "ipca_2 = IPCA(Z, R=R, K=K, gFac=gFac)\n",
        "ipca_2.run_ipca(dispIters=True)\n"
      ],
      "metadata": {
        "colab": {
          "base_uri": "https://localhost:8080/",
          "height": 358
        },
        "id": "J-JP1N5TOmka",
        "outputId": "47aee149-edee-40a7-8e3e-660de7b39f66"
      },
      "execution_count": null,
      "outputs": [
        {
          "output_type": "error",
          "ename": "AttributeError",
          "evalue": "'dict' object has no attribute 'notnull'",
          "traceback": [
            "\u001b[0;31m---------------------------------------------------------------------------\u001b[0m",
            "\u001b[0;31mAttributeError\u001b[0m                            Traceback (most recent call last)",
            "\u001b[0;32m<ipython-input-128-2ac5bf2c5850>\u001b[0m in \u001b[0;36m<cell line: 13>\u001b[0;34m()\u001b[0m\n\u001b[1;32m     11\u001b[0m \u001b[0;34m\u001b[0m\u001b[0m\n\u001b[1;32m     12\u001b[0m \u001b[0;31m# IPCA: no anomaly\u001b[0m\u001b[0;34m\u001b[0m\u001b[0;34m\u001b[0m\u001b[0m\n\u001b[0;32m---> 13\u001b[0;31m \u001b[0mipca_0\u001b[0m \u001b[0;34m=\u001b[0m \u001b[0mIPCA\u001b[0m\u001b[0;34m(\u001b[0m\u001b[0mZ\u001b[0m\u001b[0;34m,\u001b[0m \u001b[0mR\u001b[0m\u001b[0;34m=\u001b[0m\u001b[0mR\u001b[0m\u001b[0;34m,\u001b[0m \u001b[0mK\u001b[0m\u001b[0;34m=\u001b[0m\u001b[0mK\u001b[0m\u001b[0;34m)\u001b[0m\u001b[0;34m\u001b[0m\u001b[0;34m\u001b[0m\u001b[0m\n\u001b[0m\u001b[1;32m     14\u001b[0m \u001b[0mipca_0\u001b[0m\u001b[0;34m.\u001b[0m\u001b[0mrun_ipca\u001b[0m\u001b[0;34m(\u001b[0m\u001b[0mdispIters\u001b[0m\u001b[0;34m=\u001b[0m\u001b[0;32mTrue\u001b[0m\u001b[0;34m)\u001b[0m\u001b[0;34m\u001b[0m\u001b[0;34m\u001b[0m\u001b[0m\n\u001b[1;32m     15\u001b[0m \u001b[0;34m\u001b[0m\u001b[0m\n",
            "\u001b[0;32m<ipython-input-127-97eeb50dbcb3>\u001b[0m in \u001b[0;36m__init__\u001b[0;34m(self, Z, R, X, K, gFac)\u001b[0m\n\u001b[1;32m     63\u001b[0m \u001b[0;34m\u001b[0m\u001b[0m\n\u001b[1;32m     64\u001b[0m         \u001b[0;32mfor\u001b[0m \u001b[0mt\u001b[0m \u001b[0;32min\u001b[0m \u001b[0mself\u001b[0m\u001b[0;34m.\u001b[0m\u001b[0mtimes\u001b[0m\u001b[0;34m:\u001b[0m\u001b[0;34m\u001b[0m\u001b[0;34m\u001b[0m\u001b[0m\n\u001b[0;32m---> 65\u001b[0;31m           \u001b[0mis_valid\u001b[0m \u001b[0;34m=\u001b[0m \u001b[0mpd\u001b[0m\u001b[0;34m.\u001b[0m\u001b[0mDataFrame\u001b[0m\u001b[0;34m(\u001b[0m\u001b[0;34m{\u001b[0m\u001b[0;34m'z'\u001b[0m\u001b[0;34m:\u001b[0m\u001b[0mself\u001b[0m\u001b[0;34m.\u001b[0m\u001b[0mZ\u001b[0m\u001b[0;34m[\u001b[0m\u001b[0mt\u001b[0m\u001b[0;34m]\u001b[0m\u001b[0;34m.\u001b[0m\u001b[0mnotnull\u001b[0m\u001b[0;34m(\u001b[0m\u001b[0;34m)\u001b[0m\u001b[0;34m.\u001b[0m\u001b[0mall\u001b[0m\u001b[0;34m(\u001b[0m\u001b[0maxis\u001b[0m\u001b[0;34m=\u001b[0m\u001b[0;36m1\u001b[0m\u001b[0;34m)\u001b[0m\u001b[0;34m,\u001b[0m\u001b[0;34m'r'\u001b[0m\u001b[0;34m:\u001b[0m\u001b[0mself\u001b[0m\u001b[0;34m.\u001b[0m\u001b[0mR\u001b[0m\u001b[0;34m[\u001b[0m\u001b[0mt\u001b[0m\u001b[0;34m]\u001b[0m\u001b[0;34m.\u001b[0m\u001b[0mnotnull\u001b[0m\u001b[0;34m(\u001b[0m\u001b[0;34m)\u001b[0m\u001b[0;34m}\u001b[0m\u001b[0;34m)\u001b[0m\u001b[0;34m.\u001b[0m\u001b[0mall\u001b[0m\u001b[0;34m(\u001b[0m\u001b[0maxis\u001b[0m\u001b[0;34m=\u001b[0m\u001b[0;36m1\u001b[0m\u001b[0;34m)\u001b[0m \u001b[0;31m# not valid if ret or any charas are missing\u001b[0m\u001b[0;34m\u001b[0m\u001b[0;34m\u001b[0m\u001b[0m\n\u001b[0m\u001b[1;32m     66\u001b[0m           \u001b[0mz_valid\u001b[0m \u001b[0;34m=\u001b[0m \u001b[0mself\u001b[0m\u001b[0;34m.\u001b[0m\u001b[0mZ\u001b[0m\u001b[0;34m[\u001b[0m\u001b[0mt\u001b[0m\u001b[0;34m]\u001b[0m\u001b[0;34m.\u001b[0m\u001b[0mloc\u001b[0m\u001b[0;34m[\u001b[0m\u001b[0mis_valid\u001b[0m\u001b[0;34m.\u001b[0m\u001b[0mvalues\u001b[0m\u001b[0;34m,\u001b[0m\u001b[0;34m:\u001b[0m\u001b[0;34m]\u001b[0m\u001b[0;34m\u001b[0m\u001b[0;34m\u001b[0m\u001b[0m\n\u001b[1;32m     67\u001b[0m           \u001b[0mr_valid\u001b[0m \u001b[0;34m=\u001b[0m \u001b[0mself\u001b[0m\u001b[0;34m.\u001b[0m\u001b[0mR\u001b[0m\u001b[0;34m[\u001b[0m\u001b[0mt\u001b[0m\u001b[0;34m]\u001b[0m\u001b[0;34m.\u001b[0m\u001b[0mloc\u001b[0m\u001b[0;34m[\u001b[0m\u001b[0mis_valid\u001b[0m\u001b[0;34m.\u001b[0m\u001b[0mvalues\u001b[0m\u001b[0;34m]\u001b[0m\u001b[0;34m\u001b[0m\u001b[0;34m\u001b[0m\u001b[0m\n",
            "\u001b[0;31mAttributeError\u001b[0m: 'dict' object has no attribute 'notnull'"
          ]
        }
      ]
    },
    {
      "cell_type": "code",
      "source": [
        "# prompt: create multindex array random of time index ,stocks and characteristics\n",
        "\n",
        "import pandas as pd\n",
        "import numpy as np\n",
        "\n",
        "# Define the levels of the MultiIndex\n",
        "# dates = pd.date_range('2024-01-01', periods=150)\n",
        "\n",
        "dates = pd.date_range(start='01/01/2024', end='11/08/2024', freq='D')\n",
        "stocks = [f'Stock_{i}' for i in range(1, 100)]\n",
        "characteristics = [f'Characteristic_{i}' for i in range(1, 10)]\n",
        "\n",
        "# Create the MultiIndex\n",
        "index = pd.MultiIndex.from_product([dates, stocks, characteristics], names=['Date', 'Stock', 'Characteristic'])\n",
        "\n",
        "# Create the DataFrame with random data\n",
        "data = np.random.rand(len(index))\n",
        "Z = pd.DataFrame(data, index=index, columns=['Value'])\n",
        "\n"
      ],
      "metadata": {
        "id": "SzoDDX5dO16C"
      },
      "execution_count": null,
      "outputs": []
    },
    {
      "cell_type": "code",
      "source": [
        "for item in Z.keys():\n",
        "  print(item)"
      ],
      "metadata": {
        "colab": {
          "base_uri": "https://localhost:8080/"
        },
        "id": "XrefTtQCeXXx",
        "outputId": "35b28932-f588-434c-f1ee-7c758c77209f"
      },
      "execution_count": null,
      "outputs": [
        {
          "output_type": "stream",
          "name": "stdout",
          "text": [
            "0\n",
            "1\n",
            "2\n",
            "3\n",
            "4\n"
          ]
        }
      ]
    },
    {
      "cell_type": "code",
      "source": [
        "Z.keys()[0]"
      ],
      "metadata": {
        "colab": {
          "base_uri": "https://localhost:8080/",
          "height": 144
        },
        "id": "Z3imSjT5eYg5",
        "outputId": "8deec8f2-ded0-4f68-8b1e-6f587ae78358"
      },
      "execution_count": null,
      "outputs": [
        {
          "output_type": "error",
          "ename": "TypeError",
          "evalue": "'dict_keys' object is not subscriptable",
          "traceback": [
            "\u001b[0;31m---------------------------------------------------------------------------\u001b[0m",
            "\u001b[0;31mTypeError\u001b[0m                                 Traceback (most recent call last)",
            "\u001b[0;32m<ipython-input-95-89c113f922de>\u001b[0m in \u001b[0;36m<cell line: 1>\u001b[0;34m()\u001b[0m\n\u001b[0;32m----> 1\u001b[0;31m \u001b[0mZ\u001b[0m\u001b[0;34m.\u001b[0m\u001b[0mkeys\u001b[0m\u001b[0;34m(\u001b[0m\u001b[0;34m)\u001b[0m\u001b[0;34m[\u001b[0m\u001b[0;36m0\u001b[0m\u001b[0;34m]\u001b[0m\u001b[0;34m\u001b[0m\u001b[0;34m\u001b[0m\u001b[0m\n\u001b[0m",
            "\u001b[0;31mTypeError\u001b[0m: 'dict_keys' object is not subscriptable"
          ]
        }
      ]
    },
    {
      "cell_type": "code",
      "source": [],
      "metadata": {
        "id": "G7XegKLn8dAa"
      },
      "execution_count": null,
      "outputs": []
    }
  ]
}