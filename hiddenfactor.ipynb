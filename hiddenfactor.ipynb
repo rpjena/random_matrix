{
  "nbformat": 4,
  "nbformat_minor": 0,
  "metadata": {
    "colab": {
      "provenance": [],
      "authorship_tag": "ABX9TyMSKZs9/cIAV/mRHDpPkqXH",
      "include_colab_link": true
    },
    "kernelspec": {
      "name": "python3",
      "display_name": "Python 3"
    },
    "language_info": {
      "name": "python"
    }
  },
  "cells": [
    {
      "cell_type": "markdown",
      "metadata": {
        "id": "view-in-github",
        "colab_type": "text"
      },
      "source": [
        "<a href=\"https://colab.research.google.com/github/rpjena/random_matrix/blob/main/hiddenfactor.ipynb\" target=\"_parent\"><img src=\"https://colab.research.google.com/assets/colab-badge.svg\" alt=\"Open In Colab\"/></a>"
      ]
    },
    {
      "cell_type": "code",
      "execution_count": 1,
      "metadata": {
        "id": "isYQLMLJMsaN"
      },
      "outputs": [],
      "source": [
        "import numpy as np\n",
        "\n",
        "def estimate_hidden_factor(beta, R, alpha=None):\n",
        "    \"\"\"\n",
        "    Estimate the hidden factor returns F_t using time-varying betas and equity returns.\n",
        "\n",
        "    Parameters:\n",
        "        beta (np.array): Time-varying betas, shape (T, N).\n",
        "        R (np.array): Equity returns, shape (T, N).\n",
        "        alpha (np.array): Intercepts, shape (N,). Default is zero.\n",
        "\n",
        "    Returns:\n",
        "        F_hat (np.array): Estimated hidden factor returns, shape (T,).\n",
        "    \"\"\"\n",
        "    T, N = R.shape  # Number of time periods and equities\n",
        "\n",
        "    if alpha is None:\n",
        "        alpha = np.zeros(N)  # Assume zero intercept if not provided\n",
        "\n",
        "    F_hat = np.zeros(T)  # Initialize array to store estimated factor returns\n",
        "\n",
        "    for t in range(T):\n",
        "        beta_t = beta[t, :]  # Betas at time t\n",
        "        R_t = R[t, :]  # Equity returns at time t\n",
        "\n",
        "        # Compute F_t using the formula: F_t = (beta_t^T (R_t - alpha)) / (beta_t^T beta_t)\n",
        "        numerator = np.dot(beta_t, (R_t - alpha))\n",
        "        denominator = np.dot(beta_t, beta_t)\n",
        "        F_hat[t] = numerator / denominator\n",
        "\n",
        "    return F_hat"
      ]
    },
    {
      "cell_type": "code",
      "source": [],
      "metadata": {
        "id": "vY1JFFMr3pCe"
      },
      "execution_count": null,
      "outputs": []
    },
    {
      "cell_type": "code",
      "source": [
        "# Example inputs\n",
        "beta = np.array([\n",
        "    [1.2, 0.8, 1.0],  # Betas at t=1\n",
        "    [1.3, 0.9, 1.1],  # Betas at t=2\n",
        "    [1.1, 0.7, 0.9],  # Betas at t=3\n",
        "    [1.4, 1.0, 1.2],  # Betas at t=4\n",
        "    [1.5, 1.1, 1.3]   # Betas at t=5\n",
        "])\n",
        "\n",
        "R = np.array([\n",
        "    [0.05, 0.04, 0.03],  # Returns at t=1\n",
        "    [0.06, 0.05, 0.04],  # Returns at t=2\n",
        "    [0.07, 0.06, 0.05],  # Returns at t=3\n",
        "    [0.08, 0.07, 0.06],  # Returns at t=4\n",
        "    [0.09, 0.08, 0.07]   # Returns at t=5\n",
        "])\n",
        "\n",
        "# Estimate hidden factor returns\n",
        "F_hat = estimate_hidden_factor(beta, R)\n",
        "\n",
        "# Print results\n",
        "print(\"Estimated Hidden Factor Returns:\")\n",
        "print(F_hat)"
      ],
      "metadata": {
        "colab": {
          "base_uri": "https://localhost:8080/"
        },
        "id": "t1OAQVii3wTU",
        "outputId": "c2400662-288c-46a4-ba36-e6f421a5faeb"
      },
      "execution_count": 2,
      "outputs": [
        {
          "output_type": "stream",
          "name": "stdout",
          "text": [
            "Estimated Hidden Factor Returns:\n",
            "[0.03961039 0.04501348 0.06533865 0.05772727 0.06097087]\n"
          ]
        }
      ]
    },
    {
      "cell_type": "code",
      "source": [],
      "metadata": {
        "id": "Toj7ETfn3x0W"
      },
      "execution_count": null,
      "outputs": []
    }
  ]
}