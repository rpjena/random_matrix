{
  "nbformat": 4,
  "nbformat_minor": 0,
  "metadata": {
    "colab": {
      "provenance": [],
      "authorship_tag": "ABX9TyP/s+NT1S6NarP5s93dmgOB",
      "include_colab_link": true
    },
    "kernelspec": {
      "name": "python3",
      "display_name": "Python 3"
    },
    "language_info": {
      "name": "python"
    }
  },
  "cells": [
    {
      "cell_type": "markdown",
      "metadata": {
        "id": "view-in-github",
        "colab_type": "text"
      },
      "source": [
        "<a href=\"https://colab.research.google.com/github/rpjena/random_matrix/blob/main/chapter1.ipynb\" target=\"_parent\"><img src=\"https://colab.research.google.com/assets/colab-badge.svg\" alt=\"Open In Colab\"/></a>"
      ]
    },
    {
      "cell_type": "code",
      "source": [
        "def banded(g, N):\n",
        "  import numpy as np\n",
        "  \"\"\"Creates a `g` generated banded matrix with 'N' rows\"\"\"\n",
        "  n=len(g)\n",
        "  T = np.zeros((N,N+n-1))\n",
        "  for x in range(N):\n",
        "    T[x][x:x+n]=g\n",
        "  return T"
      ],
      "metadata": {
        "id": "TYHe3Ui06cVI"
      },
      "execution_count": 7,
      "outputs": []
    },
    {
      "cell_type": "code",
      "source": [
        "banded([0,2],4)"
      ],
      "metadata": {
        "colab": {
          "base_uri": "https://localhost:8080/"
        },
        "id": "yONR-2gh9jht",
        "outputId": "98395d17-d556-4a33-e4da-800686c9c326"
      },
      "execution_count": 8,
      "outputs": [
        {
          "output_type": "execute_result",
          "data": {
            "text/plain": [
              "array([[0., 2., 0., 0., 0.],\n",
              "       [0., 0., 2., 0., 0.],\n",
              "       [0., 0., 0., 2., 0.],\n",
              "       [0., 0., 0., 0., 2.]])"
            ]
          },
          "metadata": {},
          "execution_count": 8
        }
      ]
    },
    {
      "cell_type": "code",
      "source": [
        "# prompt: eigenvalue solver\n",
        "\n",
        "import numpy as np\n",
        "def banded(g, N):\n",
        "  \"\"\"Creates a `g` generated banded matrix with 'N' rows\"\"\"\n",
        "  n=len(g)\n",
        "  T = np.zeros((N,N))\n",
        "  for x in range(N):\n",
        "    for y in range(N):\n",
        "      if 0 <= y-x < n:\n",
        "        T[x][y] = g[y-x]\n",
        "\n",
        "  return T\n",
        "\n",
        "def eigenvalue_solver(matrix):\n",
        "  \"\"\"Solves the eigenvalues and eigenvectors of a given matrix\"\"\"\n",
        "  eigenvalues, eigenvectors = np.linalg.eig(matrix)\n",
        "  return eigenvalues, eigenvectors\n",
        "\n",
        "\n",
        "def generate_random_orthogonal_matrix(n):\n",
        "  \"\"\"Generates a random orthogonal matrix of size n x n.\"\"\"\n",
        "\n",
        "  # Generate a random matrix\n",
        "  A = np.random.rand(n, n)\n",
        "\n",
        "  # Perform QR decomposition to obtain an orthogonal matrix\n",
        "  Q, _ = np.linalg.qr(A)\n",
        "\n",
        "  return Q\n",
        "\n",
        "\n",
        "# Example usage\n",
        "g = [0, 2]\n",
        "N = 60\n",
        "matrix = banded(g, N)\n",
        "orthogonal_matrix = generate_random_orthogonal_matrix(N)\n",
        "matrix_copy = matrix.copy()\n",
        "matrix_copy[N-1,0] = np.power(.5,N-1)\n",
        "matrix_copy_power = np.linalg.matrix_power(matrix_copy, N)\n",
        "\n",
        "\n",
        "matrix_mod = np.linalg.multi_dot([orthogonal_matrix, matrix, np.transpose(orthogonal_matrix)])\n",
        "eigenvalues, eigenvectors = eigenvalue_solver(matrix_mod)\n",
        "print(\"Eigenvalues:\")\n",
        "print(eigenvalues[:5])\n",
        "matrix_copy = np.linalg.multi_dot([orthogonal_matrix,matrix_copy,np.transpose(orthogonal_matrix)])\n",
        "eigenvalues, eigenvectors = eigenvalue_solver(matrix_copy)\n",
        "print(\"Eigenvalues:\")\n",
        "print(eigenvalues[:5])\n"
      ],
      "metadata": {
        "colab": {
          "base_uri": "https://localhost:8080/"
        },
        "id": "0-I4U_5o9oEi",
        "outputId": "6ae4fa80-a23a-4c22-c9a3-ae15c51d346a"
      },
      "execution_count": 43,
      "outputs": [
        {
          "output_type": "stream",
          "name": "stdout",
          "text": [
            "Eigenvalues:\n",
            "[1.08938363+0.05702735j 1.08938363-0.05702735j 1.07724044+0.17021915j\n",
            " 1.07724044-0.17021915j 1.05356286+0.28108844j]\n",
            "Eigenvalues:\n",
            "[1.08938363+0.05702735j 1.08938363-0.05702735j 1.07724044+0.17021915j\n",
            " 1.07724044-0.17021915j 1.05356286+0.28108844j]\n"
          ]
        }
      ]
    },
    {
      "cell_type": "code",
      "source": [
        "# prompt: compute complex roots of unity\n",
        "\n",
        "import numpy as np\n",
        "\n",
        "def compute_roots_of_unity(n):\n",
        "  \"\"\"Computes the complex roots of unity for a given integer n.\"\"\"\n",
        "\n",
        "  roots = []\n",
        "  for k in range(n):\n",
        "    root = np.exp(2j * np.pi * k / n)\n",
        "    roots.append(root)\n",
        "  return roots\n",
        "\n",
        "\n",
        "# Example usage\n",
        "n = 60  # Compute the 5th roots of unity\n",
        "roots = compute_roots_of_unity(n)\n",
        "print(\"Roots of unity:\", roots)"
      ],
      "metadata": {
        "colab": {
          "base_uri": "https://localhost:8080/"
        },
        "id": "ov-okkgs-Z8i",
        "outputId": "65c5f3c8-4e11-4b51-f9a2-a2786acad255"
      },
      "execution_count": 41,
      "outputs": [
        {
          "output_type": "stream",
          "name": "stdout",
          "text": [
            "Roots of unity: [(1+0j), (0.9945218953682733+0.10452846326765346j), (0.9781476007338057+0.20791169081775931j), (0.9510565162951535+0.3090169943749474j), (0.9135454576426009+0.40673664307580015j), (0.8660254037844387+0.49999999999999994j), (0.8090169943749475+0.5877852522924731j), (0.7431448254773942+0.6691306063588582j), (0.6691306063588582+0.7431448254773942j), (0.5877852522924731+0.8090169943749475j), (0.5000000000000001+0.8660254037844386j), (0.4067366430758004+0.9135454576426009j), (0.30901699437494745+0.9510565162951535j), (0.20791169081775923+0.9781476007338057j), (0.10452846326765346+0.9945218953682733j), (2.83276944882399e-16+1j), (-0.10452846326765333+0.9945218953682734j), (-0.20791169081775934+0.9781476007338057j), (-0.30901699437494734+0.9510565162951536j), (-0.40673664307580004+0.913545457642601j), (-0.4999999999999998+0.8660254037844387j), (-0.587785252292473+0.8090169943749475j), (-0.6691306063588579+0.7431448254773945j), (-0.743144825477394+0.6691306063588583j), (-0.8090169943749473+0.5877852522924732j), (-0.8660254037844387+0.49999999999999994j), (-0.913545457642601+0.40673664307580004j), (-0.9510565162951535+0.3090169943749475j), (-0.9781476007338057+0.20791169081775931j), (-0.9945218953682734+0.10452846326765329j), (-1+5.66553889764798e-16j), (-0.9945218953682734-0.10452846326765305j), (-0.9781476007338057-0.20791169081775907j), (-0.9510565162951536-0.3090169943749473j), (-0.9135454576426009-0.4067366430758002j), (-0.8660254037844388-0.4999999999999997j), (-0.8090169943749476-0.587785252292473j), (-0.7431448254773942-0.6691306063588582j), (-0.6691306063588585-0.743144825477394j), (-0.5877852522924732-0.8090169943749473j), (-0.5000000000000004-0.8660254037844384j), (-0.4067366430758009-0.9135454576426005j), (-0.30901699437494756-0.9510565162951535j), (-0.2079116908177598-0.9781476007338056j), (-0.10452846326765423-0.9945218953682733j), (-1.8369701987210297e-16-1j), (0.10452846326765299-0.9945218953682734j), (0.20791169081775943-0.9781476007338056j), (0.30901699437494723-0.9510565162951536j), (0.40673664307579976-0.9135454576426011j), (0.5000000000000001-0.8660254037844386j), (0.5877852522924729-0.8090169943749476j), (0.6691306063588585-0.743144825477394j), (0.7431448254773942-0.6691306063588581j), (0.8090169943749473-0.5877852522924734j), (0.8660254037844388-0.49999999999999967j), (0.913545457642601-0.40673664307580015j), (0.9510565162951535-0.3090169943749477j), (0.9781476007338057-0.20791169081775898j), (0.9945218953682733-0.10452846326765342j)]\n"
          ]
        }
      ]
    },
    {
      "cell_type": "code",
      "source": [],
      "metadata": {
        "id": "TCVZPlMuCmfW"
      },
      "execution_count": null,
      "outputs": []
    }
  ]
}