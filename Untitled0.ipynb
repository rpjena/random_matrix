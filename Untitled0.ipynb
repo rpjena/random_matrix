{
  "nbformat": 4,
  "nbformat_minor": 0,
  "metadata": {
    "colab": {
      "provenance": [],
      "authorship_tag": "ABX9TyNQDnXK6V8YVphVi3GbCCzP",
      "include_colab_link": true
    },
    "kernelspec": {
      "name": "python3",
      "display_name": "Python 3"
    },
    "language_info": {
      "name": "python"
    }
  },
  "cells": [
    {
      "cell_type": "markdown",
      "metadata": {
        "id": "view-in-github",
        "colab_type": "text"
      },
      "source": [
        "<a href=\"https://colab.research.google.com/github/rpjena/random_matrix/blob/main/Untitled0.ipynb\" target=\"_parent\"><img src=\"https://colab.research.google.com/assets/colab-badge.svg\" alt=\"Open In Colab\"/></a>"
      ]
    },
    {
      "cell_type": "code",
      "source": [
        "# prompt: read txt file and put in a dataframe\n",
        "\n",
        "import pandas as pd\n",
        "\n",
        "def read_txt_to_df(file_path, sep='\\t', header=None):\n",
        "  \"\"\"Reads a txt file and returns a pandas DataFrame.\n",
        "\n",
        "  Args:\n",
        "    file_path: Path to the txt file.\n",
        "    sep: Separator used in the file.\n",
        "    header: Whether the file has a header row.\n",
        "\n",
        "  Returns:\n",
        "    A pandas DataFrame.\n",
        "  \"\"\"\n",
        "  try:\n",
        "    df = pd.read_csv(file_path, sep=sep, header=header)\n",
        "    return df\n",
        "  except Exception as e:\n",
        "    print(f\"Error reading file: {e}\")\n",
        "    return None\n",
        "\n",
        "\n",
        "# Example usage:\n",
        "# file_path = 'your_file.txt'\n",
        "# df = read_txt_to_df(file_path)\n",
        "\n",
        "# If you want to specify a different separator or header behavior,\n",
        "# you can pass those arguments to the function:\n",
        "# df = read_txt_to_df(file_path, sep=',', header=0)\n",
        "\n",
        "# Print the DataFrame\n",
        "# print(df)\n"
      ],
      "metadata": {
        "id": "TYHe3Ui06cVI"
      },
      "execution_count": null,
      "outputs": []
    }
  ]
}